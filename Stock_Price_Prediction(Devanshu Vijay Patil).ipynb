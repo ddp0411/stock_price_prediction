{
  "nbformat": 4,
  "nbformat_minor": 0,
  "metadata": {
    "colab": {
      "provenance": []
    },
    "kernelspec": {
      "name": "python3",
      "display_name": "Python 3"
    },
    "language_info": {
      "name": "python"
    }
  },
  "cells": [
    {
      "cell_type": "code",
      "execution_count": 1,
      "metadata": {
        "id": "YhJo44ykecas"
      },
      "outputs": [],
      "source": [
        "import pandas as pd"
      ]
    },
    {
      "cell_type": "code",
      "source": [
        "stock_price_pred=pd.read_csv('Minor Project Data set (Stock Price Prediction).csv',index_col='Date')"
      ],
      "metadata": {
        "id": "gaZGF7iietQc"
      },
      "execution_count": 2,
      "outputs": []
    },
    {
      "cell_type": "code",
      "source": [
        "stock_price_pred"
      ],
      "metadata": {
        "colab": {
          "base_uri": "https://localhost:8080/",
          "height": 455
        },
        "id": "lZCXaKr3euUx",
        "outputId": "49f1ac2a-a3fd-4c92-b32b-cbb7d7787b67"
      },
      "execution_count": 3,
      "outputs": [
        {
          "output_type": "execute_result",
          "data": {
            "text/plain": [
              "                  Open        High         Low       Close   Adj Close  \\\n",
              "Date                                                                     \n",
              "2018-02-05  262.000000  267.899994  250.029999  254.259995  254.259995   \n",
              "2018-02-06  247.699997  266.700012  245.000000  265.720001  265.720001   \n",
              "2018-02-07  266.579987  272.450012  264.329987  264.559998  264.559998   \n",
              "2018-02-08  267.079987  267.619995  250.000000  250.100006  250.100006   \n",
              "2018-02-09  253.850006  255.800003  236.110001  249.470001  249.470001   \n",
              "...                ...         ...         ...         ...         ...   \n",
              "2022-01-31  401.970001  427.700012  398.200012  427.140015  427.140015   \n",
              "2022-02-01  432.959991  458.480011  425.540009  457.130005  457.130005   \n",
              "2022-02-02  448.250000  451.980011  426.480011  429.480011  429.480011   \n",
              "2022-02-03  421.440002  429.260010  404.279999  405.600006  405.600006   \n",
              "2022-02-04  407.309998  412.769989  396.640015  410.170013  410.170013   \n",
              "\n",
              "              Volume  \n",
              "Date                  \n",
              "2018-02-05  11896100  \n",
              "2018-02-06  12595800  \n",
              "2018-02-07   8981500  \n",
              "2018-02-08   9306700  \n",
              "2018-02-09  16906900  \n",
              "...              ...  \n",
              "2022-01-31  20047500  \n",
              "2022-02-01  22542300  \n",
              "2022-02-02  14346000  \n",
              "2022-02-03   9905200  \n",
              "2022-02-04   7782400  \n",
              "\n",
              "[1009 rows x 6 columns]"
            ],
            "text/html": [
              "\n",
              "  <div id=\"df-c3c8b79b-d796-4f44-8b9f-52bc1752ea55\" class=\"colab-df-container\">\n",
              "    <div>\n",
              "<style scoped>\n",
              "    .dataframe tbody tr th:only-of-type {\n",
              "        vertical-align: middle;\n",
              "    }\n",
              "\n",
              "    .dataframe tbody tr th {\n",
              "        vertical-align: top;\n",
              "    }\n",
              "\n",
              "    .dataframe thead th {\n",
              "        text-align: right;\n",
              "    }\n",
              "</style>\n",
              "<table border=\"1\" class=\"dataframe\">\n",
              "  <thead>\n",
              "    <tr style=\"text-align: right;\">\n",
              "      <th></th>\n",
              "      <th>Open</th>\n",
              "      <th>High</th>\n",
              "      <th>Low</th>\n",
              "      <th>Close</th>\n",
              "      <th>Adj Close</th>\n",
              "      <th>Volume</th>\n",
              "    </tr>\n",
              "    <tr>\n",
              "      <th>Date</th>\n",
              "      <th></th>\n",
              "      <th></th>\n",
              "      <th></th>\n",
              "      <th></th>\n",
              "      <th></th>\n",
              "      <th></th>\n",
              "    </tr>\n",
              "  </thead>\n",
              "  <tbody>\n",
              "    <tr>\n",
              "      <th>2018-02-05</th>\n",
              "      <td>262.000000</td>\n",
              "      <td>267.899994</td>\n",
              "      <td>250.029999</td>\n",
              "      <td>254.259995</td>\n",
              "      <td>254.259995</td>\n",
              "      <td>11896100</td>\n",
              "    </tr>\n",
              "    <tr>\n",
              "      <th>2018-02-06</th>\n",
              "      <td>247.699997</td>\n",
              "      <td>266.700012</td>\n",
              "      <td>245.000000</td>\n",
              "      <td>265.720001</td>\n",
              "      <td>265.720001</td>\n",
              "      <td>12595800</td>\n",
              "    </tr>\n",
              "    <tr>\n",
              "      <th>2018-02-07</th>\n",
              "      <td>266.579987</td>\n",
              "      <td>272.450012</td>\n",
              "      <td>264.329987</td>\n",
              "      <td>264.559998</td>\n",
              "      <td>264.559998</td>\n",
              "      <td>8981500</td>\n",
              "    </tr>\n",
              "    <tr>\n",
              "      <th>2018-02-08</th>\n",
              "      <td>267.079987</td>\n",
              "      <td>267.619995</td>\n",
              "      <td>250.000000</td>\n",
              "      <td>250.100006</td>\n",
              "      <td>250.100006</td>\n",
              "      <td>9306700</td>\n",
              "    </tr>\n",
              "    <tr>\n",
              "      <th>2018-02-09</th>\n",
              "      <td>253.850006</td>\n",
              "      <td>255.800003</td>\n",
              "      <td>236.110001</td>\n",
              "      <td>249.470001</td>\n",
              "      <td>249.470001</td>\n",
              "      <td>16906900</td>\n",
              "    </tr>\n",
              "    <tr>\n",
              "      <th>...</th>\n",
              "      <td>...</td>\n",
              "      <td>...</td>\n",
              "      <td>...</td>\n",
              "      <td>...</td>\n",
              "      <td>...</td>\n",
              "      <td>...</td>\n",
              "    </tr>\n",
              "    <tr>\n",
              "      <th>2022-01-31</th>\n",
              "      <td>401.970001</td>\n",
              "      <td>427.700012</td>\n",
              "      <td>398.200012</td>\n",
              "      <td>427.140015</td>\n",
              "      <td>427.140015</td>\n",
              "      <td>20047500</td>\n",
              "    </tr>\n",
              "    <tr>\n",
              "      <th>2022-02-01</th>\n",
              "      <td>432.959991</td>\n",
              "      <td>458.480011</td>\n",
              "      <td>425.540009</td>\n",
              "      <td>457.130005</td>\n",
              "      <td>457.130005</td>\n",
              "      <td>22542300</td>\n",
              "    </tr>\n",
              "    <tr>\n",
              "      <th>2022-02-02</th>\n",
              "      <td>448.250000</td>\n",
              "      <td>451.980011</td>\n",
              "      <td>426.480011</td>\n",
              "      <td>429.480011</td>\n",
              "      <td>429.480011</td>\n",
              "      <td>14346000</td>\n",
              "    </tr>\n",
              "    <tr>\n",
              "      <th>2022-02-03</th>\n",
              "      <td>421.440002</td>\n",
              "      <td>429.260010</td>\n",
              "      <td>404.279999</td>\n",
              "      <td>405.600006</td>\n",
              "      <td>405.600006</td>\n",
              "      <td>9905200</td>\n",
              "    </tr>\n",
              "    <tr>\n",
              "      <th>2022-02-04</th>\n",
              "      <td>407.309998</td>\n",
              "      <td>412.769989</td>\n",
              "      <td>396.640015</td>\n",
              "      <td>410.170013</td>\n",
              "      <td>410.170013</td>\n",
              "      <td>7782400</td>\n",
              "    </tr>\n",
              "  </tbody>\n",
              "</table>\n",
              "<p>1009 rows × 6 columns</p>\n",
              "</div>\n",
              "    <div class=\"colab-df-buttons\">\n",
              "\n",
              "  <div class=\"colab-df-container\">\n",
              "    <button class=\"colab-df-convert\" onclick=\"convertToInteractive('df-c3c8b79b-d796-4f44-8b9f-52bc1752ea55')\"\n",
              "            title=\"Convert this dataframe to an interactive table.\"\n",
              "            style=\"display:none;\">\n",
              "\n",
              "  <svg xmlns=\"http://www.w3.org/2000/svg\" height=\"24px\" viewBox=\"0 -960 960 960\">\n",
              "    <path d=\"M120-120v-720h720v720H120Zm60-500h600v-160H180v160Zm220 220h160v-160H400v160Zm0 220h160v-160H400v160ZM180-400h160v-160H180v160Zm440 0h160v-160H620v160ZM180-180h160v-160H180v160Zm440 0h160v-160H620v160Z\"/>\n",
              "  </svg>\n",
              "    </button>\n",
              "\n",
              "  <style>\n",
              "    .colab-df-container {\n",
              "      display:flex;\n",
              "      gap: 12px;\n",
              "    }\n",
              "\n",
              "    .colab-df-convert {\n",
              "      background-color: #E8F0FE;\n",
              "      border: none;\n",
              "      border-radius: 50%;\n",
              "      cursor: pointer;\n",
              "      display: none;\n",
              "      fill: #1967D2;\n",
              "      height: 32px;\n",
              "      padding: 0 0 0 0;\n",
              "      width: 32px;\n",
              "    }\n",
              "\n",
              "    .colab-df-convert:hover {\n",
              "      background-color: #E2EBFA;\n",
              "      box-shadow: 0px 1px 2px rgba(60, 64, 67, 0.3), 0px 1px 3px 1px rgba(60, 64, 67, 0.15);\n",
              "      fill: #174EA6;\n",
              "    }\n",
              "\n",
              "    .colab-df-buttons div {\n",
              "      margin-bottom: 4px;\n",
              "    }\n",
              "\n",
              "    [theme=dark] .colab-df-convert {\n",
              "      background-color: #3B4455;\n",
              "      fill: #D2E3FC;\n",
              "    }\n",
              "\n",
              "    [theme=dark] .colab-df-convert:hover {\n",
              "      background-color: #434B5C;\n",
              "      box-shadow: 0px 1px 3px 1px rgba(0, 0, 0, 0.15);\n",
              "      filter: drop-shadow(0px 1px 2px rgba(0, 0, 0, 0.3));\n",
              "      fill: #FFFFFF;\n",
              "    }\n",
              "  </style>\n",
              "\n",
              "    <script>\n",
              "      const buttonEl =\n",
              "        document.querySelector('#df-c3c8b79b-d796-4f44-8b9f-52bc1752ea55 button.colab-df-convert');\n",
              "      buttonEl.style.display =\n",
              "        google.colab.kernel.accessAllowed ? 'block' : 'none';\n",
              "\n",
              "      async function convertToInteractive(key) {\n",
              "        const element = document.querySelector('#df-c3c8b79b-d796-4f44-8b9f-52bc1752ea55');\n",
              "        const dataTable =\n",
              "          await google.colab.kernel.invokeFunction('convertToInteractive',\n",
              "                                                    [key], {});\n",
              "        if (!dataTable) return;\n",
              "\n",
              "        const docLinkHtml = 'Like what you see? Visit the ' +\n",
              "          '<a target=\"_blank\" href=https://colab.research.google.com/notebooks/data_table.ipynb>data table notebook</a>'\n",
              "          + ' to learn more about interactive tables.';\n",
              "        element.innerHTML = '';\n",
              "        dataTable['output_type'] = 'display_data';\n",
              "        await google.colab.output.renderOutput(dataTable, element);\n",
              "        const docLink = document.createElement('div');\n",
              "        docLink.innerHTML = docLinkHtml;\n",
              "        element.appendChild(docLink);\n",
              "      }\n",
              "    </script>\n",
              "  </div>\n",
              "\n",
              "\n",
              "<div id=\"df-57b8c583-64d3-4352-808d-4e43cdec81c5\">\n",
              "  <button class=\"colab-df-quickchart\" onclick=\"quickchart('df-57b8c583-64d3-4352-808d-4e43cdec81c5')\"\n",
              "            title=\"Suggest charts\"\n",
              "            style=\"display:none;\">\n",
              "\n",
              "<svg xmlns=\"http://www.w3.org/2000/svg\" height=\"24px\"viewBox=\"0 0 24 24\"\n",
              "     width=\"24px\">\n",
              "    <g>\n",
              "        <path d=\"M19 3H5c-1.1 0-2 .9-2 2v14c0 1.1.9 2 2 2h14c1.1 0 2-.9 2-2V5c0-1.1-.9-2-2-2zM9 17H7v-7h2v7zm4 0h-2V7h2v10zm4 0h-2v-4h2v4z\"/>\n",
              "    </g>\n",
              "</svg>\n",
              "  </button>\n",
              "\n",
              "<style>\n",
              "  .colab-df-quickchart {\n",
              "      --bg-color: #E8F0FE;\n",
              "      --fill-color: #1967D2;\n",
              "      --hover-bg-color: #E2EBFA;\n",
              "      --hover-fill-color: #174EA6;\n",
              "      --disabled-fill-color: #AAA;\n",
              "      --disabled-bg-color: #DDD;\n",
              "  }\n",
              "\n",
              "  [theme=dark] .colab-df-quickchart {\n",
              "      --bg-color: #3B4455;\n",
              "      --fill-color: #D2E3FC;\n",
              "      --hover-bg-color: #434B5C;\n",
              "      --hover-fill-color: #FFFFFF;\n",
              "      --disabled-bg-color: #3B4455;\n",
              "      --disabled-fill-color: #666;\n",
              "  }\n",
              "\n",
              "  .colab-df-quickchart {\n",
              "    background-color: var(--bg-color);\n",
              "    border: none;\n",
              "    border-radius: 50%;\n",
              "    cursor: pointer;\n",
              "    display: none;\n",
              "    fill: var(--fill-color);\n",
              "    height: 32px;\n",
              "    padding: 0;\n",
              "    width: 32px;\n",
              "  }\n",
              "\n",
              "  .colab-df-quickchart:hover {\n",
              "    background-color: var(--hover-bg-color);\n",
              "    box-shadow: 0 1px 2px rgba(60, 64, 67, 0.3), 0 1px 3px 1px rgba(60, 64, 67, 0.15);\n",
              "    fill: var(--button-hover-fill-color);\n",
              "  }\n",
              "\n",
              "  .colab-df-quickchart-complete:disabled,\n",
              "  .colab-df-quickchart-complete:disabled:hover {\n",
              "    background-color: var(--disabled-bg-color);\n",
              "    fill: var(--disabled-fill-color);\n",
              "    box-shadow: none;\n",
              "  }\n",
              "\n",
              "  .colab-df-spinner {\n",
              "    border: 2px solid var(--fill-color);\n",
              "    border-color: transparent;\n",
              "    border-bottom-color: var(--fill-color);\n",
              "    animation:\n",
              "      spin 1s steps(1) infinite;\n",
              "  }\n",
              "\n",
              "  @keyframes spin {\n",
              "    0% {\n",
              "      border-color: transparent;\n",
              "      border-bottom-color: var(--fill-color);\n",
              "      border-left-color: var(--fill-color);\n",
              "    }\n",
              "    20% {\n",
              "      border-color: transparent;\n",
              "      border-left-color: var(--fill-color);\n",
              "      border-top-color: var(--fill-color);\n",
              "    }\n",
              "    30% {\n",
              "      border-color: transparent;\n",
              "      border-left-color: var(--fill-color);\n",
              "      border-top-color: var(--fill-color);\n",
              "      border-right-color: var(--fill-color);\n",
              "    }\n",
              "    40% {\n",
              "      border-color: transparent;\n",
              "      border-right-color: var(--fill-color);\n",
              "      border-top-color: var(--fill-color);\n",
              "    }\n",
              "    60% {\n",
              "      border-color: transparent;\n",
              "      border-right-color: var(--fill-color);\n",
              "    }\n",
              "    80% {\n",
              "      border-color: transparent;\n",
              "      border-right-color: var(--fill-color);\n",
              "      border-bottom-color: var(--fill-color);\n",
              "    }\n",
              "    90% {\n",
              "      border-color: transparent;\n",
              "      border-bottom-color: var(--fill-color);\n",
              "    }\n",
              "  }\n",
              "</style>\n",
              "\n",
              "  <script>\n",
              "    async function quickchart(key) {\n",
              "      const quickchartButtonEl =\n",
              "        document.querySelector('#' + key + ' button');\n",
              "      quickchartButtonEl.disabled = true;  // To prevent multiple clicks.\n",
              "      quickchartButtonEl.classList.add('colab-df-spinner');\n",
              "      try {\n",
              "        const charts = await google.colab.kernel.invokeFunction(\n",
              "            'suggestCharts', [key], {});\n",
              "      } catch (error) {\n",
              "        console.error('Error during call to suggestCharts:', error);\n",
              "      }\n",
              "      quickchartButtonEl.classList.remove('colab-df-spinner');\n",
              "      quickchartButtonEl.classList.add('colab-df-quickchart-complete');\n",
              "    }\n",
              "    (() => {\n",
              "      let quickchartButtonEl =\n",
              "        document.querySelector('#df-57b8c583-64d3-4352-808d-4e43cdec81c5 button');\n",
              "      quickchartButtonEl.style.display =\n",
              "        google.colab.kernel.accessAllowed ? 'block' : 'none';\n",
              "    })();\n",
              "  </script>\n",
              "</div>\n",
              "\n",
              "  <div id=\"id_77c3cd18-5b5e-4aaa-a953-7eb44d78b688\">\n",
              "    <style>\n",
              "      .colab-df-generate {\n",
              "        background-color: #E8F0FE;\n",
              "        border: none;\n",
              "        border-radius: 50%;\n",
              "        cursor: pointer;\n",
              "        display: none;\n",
              "        fill: #1967D2;\n",
              "        height: 32px;\n",
              "        padding: 0 0 0 0;\n",
              "        width: 32px;\n",
              "      }\n",
              "\n",
              "      .colab-df-generate:hover {\n",
              "        background-color: #E2EBFA;\n",
              "        box-shadow: 0px 1px 2px rgba(60, 64, 67, 0.3), 0px 1px 3px 1px rgba(60, 64, 67, 0.15);\n",
              "        fill: #174EA6;\n",
              "      }\n",
              "\n",
              "      [theme=dark] .colab-df-generate {\n",
              "        background-color: #3B4455;\n",
              "        fill: #D2E3FC;\n",
              "      }\n",
              "\n",
              "      [theme=dark] .colab-df-generate:hover {\n",
              "        background-color: #434B5C;\n",
              "        box-shadow: 0px 1px 3px 1px rgba(0, 0, 0, 0.15);\n",
              "        filter: drop-shadow(0px 1px 2px rgba(0, 0, 0, 0.3));\n",
              "        fill: #FFFFFF;\n",
              "      }\n",
              "    </style>\n",
              "    <button class=\"colab-df-generate\" onclick=\"generateWithVariable('stock_price_pred')\"\n",
              "            title=\"Generate code using this dataframe.\"\n",
              "            style=\"display:none;\">\n",
              "\n",
              "  <svg xmlns=\"http://www.w3.org/2000/svg\" height=\"24px\"viewBox=\"0 0 24 24\"\n",
              "       width=\"24px\">\n",
              "    <path d=\"M7,19H8.4L18.45,9,17,7.55,7,17.6ZM5,21V16.75L18.45,3.32a2,2,0,0,1,2.83,0l1.4,1.43a1.91,1.91,0,0,1,.58,1.4,1.91,1.91,0,0,1-.58,1.4L9.25,21ZM18.45,9,17,7.55Zm-12,3A5.31,5.31,0,0,0,4.9,8.1,5.31,5.31,0,0,0,1,6.5,5.31,5.31,0,0,0,4.9,4.9,5.31,5.31,0,0,0,6.5,1,5.31,5.31,0,0,0,8.1,4.9,5.31,5.31,0,0,0,12,6.5,5.46,5.46,0,0,0,6.5,12Z\"/>\n",
              "  </svg>\n",
              "    </button>\n",
              "    <script>\n",
              "      (() => {\n",
              "      const buttonEl =\n",
              "        document.querySelector('#id_77c3cd18-5b5e-4aaa-a953-7eb44d78b688 button.colab-df-generate');\n",
              "      buttonEl.style.display =\n",
              "        google.colab.kernel.accessAllowed ? 'block' : 'none';\n",
              "\n",
              "      buttonEl.onclick = () => {\n",
              "        google.colab.notebook.generateWithVariable('stock_price_pred');\n",
              "      }\n",
              "      })();\n",
              "    </script>\n",
              "  </div>\n",
              "\n",
              "    </div>\n",
              "  </div>\n"
            ],
            "application/vnd.google.colaboratory.intrinsic+json": {
              "type": "dataframe",
              "variable_name": "stock_price_pred",
              "summary": "{\n  \"name\": \"stock_price_pred\",\n  \"rows\": 1009,\n  \"fields\": [\n    {\n      \"column\": \"Date\",\n      \"properties\": {\n        \"dtype\": \"object\",\n        \"num_unique_values\": 1009,\n        \"samples\": [\n          \"2020-08-04\",\n          \"2020-08-07\",\n          \"2021-01-14\"\n        ],\n        \"semantic_type\": \"\",\n        \"description\": \"\"\n      }\n    },\n    {\n      \"column\": \"Open\",\n      \"properties\": {\n        \"dtype\": \"number\",\n        \"std\": 108.53753170401454,\n        \"min\": 233.919998,\n        \"max\": 692.349976,\n        \"num_unique_values\": 976,\n        \"samples\": [\n          254.630005,\n          427.559998,\n          339.570007\n        ],\n        \"semantic_type\": \"\",\n        \"description\": \"\"\n      }\n    },\n    {\n      \"column\": \"High\",\n      \"properties\": {\n        \"dtype\": \"number\",\n        \"std\": 109.26295957119457,\n        \"min\": 250.649994,\n        \"max\": 700.98999,\n        \"num_unique_values\": 983,\n        \"samples\": [\n          511.76001,\n          494.850006,\n          496.660004\n        ],\n        \"semantic_type\": \"\",\n        \"description\": \"\"\n      }\n    },\n    {\n      \"column\": \"Low\",\n      \"properties\": {\n        \"dtype\": \"number\",\n        \"std\": 107.55586739006051,\n        \"min\": 231.229996,\n        \"max\": 686.090027,\n        \"num_unique_values\": 989,\n        \"samples\": [\n          266.480011,\n          349.290009,\n          384.899994\n        ],\n        \"semantic_type\": \"\",\n        \"description\": \"\"\n      }\n    },\n    {\n      \"column\": \"Close\",\n      \"properties\": {\n        \"dtype\": \"number\",\n        \"std\": 108.28999877034998,\n        \"min\": 233.880005,\n        \"max\": 691.690002,\n        \"num_unique_values\": 988,\n        \"samples\": [\n          265.320007,\n          345.559998,\n          380.070007\n        ],\n        \"semantic_type\": \"\",\n        \"description\": \"\"\n      }\n    },\n    {\n      \"column\": \"Adj Close\",\n      \"properties\": {\n        \"dtype\": \"number\",\n        \"std\": 108.28999877034998,\n        \"min\": 233.880005,\n        \"max\": 691.690002,\n        \"num_unique_values\": 988,\n        \"samples\": [\n          265.320007,\n          345.559998,\n          380.070007\n        ],\n        \"semantic_type\": \"\",\n        \"description\": \"\"\n      }\n    },\n    {\n      \"column\": \"Volume\",\n      \"properties\": {\n        \"dtype\": \"number\",\n        \"std\": 5465535,\n        \"min\": 1144000,\n        \"max\": 58904300,\n        \"num_unique_values\": 1005,\n        \"samples\": [\n          2671700,\n          3725900,\n          4927900\n        ],\n        \"semantic_type\": \"\",\n        \"description\": \"\"\n      }\n    }\n  ]\n}"
            }
          },
          "metadata": {},
          "execution_count": 3
        }
      ]
    },
    {
      "cell_type": "code",
      "source": [
        "stock_price_pred.info()"
      ],
      "metadata": {
        "colab": {
          "base_uri": "https://localhost:8080/"
        },
        "id": "YlaoFi3Rew6A",
        "outputId": "dbb24571-068d-4895-bb7b-8b18d3d2a9e4"
      },
      "execution_count": 4,
      "outputs": [
        {
          "output_type": "stream",
          "name": "stdout",
          "text": [
            "<class 'pandas.core.frame.DataFrame'>\n",
            "Index: 1009 entries, 2018-02-05 to 2022-02-04\n",
            "Data columns (total 6 columns):\n",
            " #   Column     Non-Null Count  Dtype  \n",
            "---  ------     --------------  -----  \n",
            " 0   Open       1009 non-null   float64\n",
            " 1   High       1009 non-null   float64\n",
            " 2   Low        1009 non-null   float64\n",
            " 3   Close      1009 non-null   float64\n",
            " 4   Adj Close  1009 non-null   float64\n",
            " 5   Volume     1009 non-null   int64  \n",
            "dtypes: float64(5), int64(1)\n",
            "memory usage: 55.2+ KB\n"
          ]
        }
      ]
    },
    {
      "cell_type": "code",
      "source": [
        "stock_price_pred.describe()"
      ],
      "metadata": {
        "colab": {
          "base_uri": "https://localhost:8080/",
          "height": 320
        },
        "id": "neEmDHzuezmh",
        "outputId": "f96019bd-ed67-4c2a-9dbe-8381b848c1da"
      },
      "execution_count": 5,
      "outputs": [
        {
          "output_type": "execute_result",
          "data": {
            "text/plain": [
              "              Open         High          Low        Close    Adj Close  \\\n",
              "count  1009.000000  1009.000000  1009.000000  1009.000000  1009.000000   \n",
              "mean    419.059673   425.320703   412.374044   419.000733   419.000733   \n",
              "std     108.537532   109.262960   107.555867   108.289999   108.289999   \n",
              "min     233.919998   250.649994   231.229996   233.880005   233.880005   \n",
              "25%     331.489990   336.299988   326.000000   331.619995   331.619995   \n",
              "50%     377.769989   383.010010   370.880005   378.670013   378.670013   \n",
              "75%     509.130005   515.630005   502.529999   509.079987   509.079987   \n",
              "max     692.349976   700.989990   686.090027   691.690002   691.690002   \n",
              "\n",
              "             Volume  \n",
              "count  1.009000e+03  \n",
              "mean   7.570685e+06  \n",
              "std    5.465535e+06  \n",
              "min    1.144000e+06  \n",
              "25%    4.091900e+06  \n",
              "50%    5.934500e+06  \n",
              "75%    9.322400e+06  \n",
              "max    5.890430e+07  "
            ],
            "text/html": [
              "\n",
              "  <div id=\"df-c728a422-0e73-4e17-a6d0-fae844949a22\" class=\"colab-df-container\">\n",
              "    <div>\n",
              "<style scoped>\n",
              "    .dataframe tbody tr th:only-of-type {\n",
              "        vertical-align: middle;\n",
              "    }\n",
              "\n",
              "    .dataframe tbody tr th {\n",
              "        vertical-align: top;\n",
              "    }\n",
              "\n",
              "    .dataframe thead th {\n",
              "        text-align: right;\n",
              "    }\n",
              "</style>\n",
              "<table border=\"1\" class=\"dataframe\">\n",
              "  <thead>\n",
              "    <tr style=\"text-align: right;\">\n",
              "      <th></th>\n",
              "      <th>Open</th>\n",
              "      <th>High</th>\n",
              "      <th>Low</th>\n",
              "      <th>Close</th>\n",
              "      <th>Adj Close</th>\n",
              "      <th>Volume</th>\n",
              "    </tr>\n",
              "  </thead>\n",
              "  <tbody>\n",
              "    <tr>\n",
              "      <th>count</th>\n",
              "      <td>1009.000000</td>\n",
              "      <td>1009.000000</td>\n",
              "      <td>1009.000000</td>\n",
              "      <td>1009.000000</td>\n",
              "      <td>1009.000000</td>\n",
              "      <td>1.009000e+03</td>\n",
              "    </tr>\n",
              "    <tr>\n",
              "      <th>mean</th>\n",
              "      <td>419.059673</td>\n",
              "      <td>425.320703</td>\n",
              "      <td>412.374044</td>\n",
              "      <td>419.000733</td>\n",
              "      <td>419.000733</td>\n",
              "      <td>7.570685e+06</td>\n",
              "    </tr>\n",
              "    <tr>\n",
              "      <th>std</th>\n",
              "      <td>108.537532</td>\n",
              "      <td>109.262960</td>\n",
              "      <td>107.555867</td>\n",
              "      <td>108.289999</td>\n",
              "      <td>108.289999</td>\n",
              "      <td>5.465535e+06</td>\n",
              "    </tr>\n",
              "    <tr>\n",
              "      <th>min</th>\n",
              "      <td>233.919998</td>\n",
              "      <td>250.649994</td>\n",
              "      <td>231.229996</td>\n",
              "      <td>233.880005</td>\n",
              "      <td>233.880005</td>\n",
              "      <td>1.144000e+06</td>\n",
              "    </tr>\n",
              "    <tr>\n",
              "      <th>25%</th>\n",
              "      <td>331.489990</td>\n",
              "      <td>336.299988</td>\n",
              "      <td>326.000000</td>\n",
              "      <td>331.619995</td>\n",
              "      <td>331.619995</td>\n",
              "      <td>4.091900e+06</td>\n",
              "    </tr>\n",
              "    <tr>\n",
              "      <th>50%</th>\n",
              "      <td>377.769989</td>\n",
              "      <td>383.010010</td>\n",
              "      <td>370.880005</td>\n",
              "      <td>378.670013</td>\n",
              "      <td>378.670013</td>\n",
              "      <td>5.934500e+06</td>\n",
              "    </tr>\n",
              "    <tr>\n",
              "      <th>75%</th>\n",
              "      <td>509.130005</td>\n",
              "      <td>515.630005</td>\n",
              "      <td>502.529999</td>\n",
              "      <td>509.079987</td>\n",
              "      <td>509.079987</td>\n",
              "      <td>9.322400e+06</td>\n",
              "    </tr>\n",
              "    <tr>\n",
              "      <th>max</th>\n",
              "      <td>692.349976</td>\n",
              "      <td>700.989990</td>\n",
              "      <td>686.090027</td>\n",
              "      <td>691.690002</td>\n",
              "      <td>691.690002</td>\n",
              "      <td>5.890430e+07</td>\n",
              "    </tr>\n",
              "  </tbody>\n",
              "</table>\n",
              "</div>\n",
              "    <div class=\"colab-df-buttons\">\n",
              "\n",
              "  <div class=\"colab-df-container\">\n",
              "    <button class=\"colab-df-convert\" onclick=\"convertToInteractive('df-c728a422-0e73-4e17-a6d0-fae844949a22')\"\n",
              "            title=\"Convert this dataframe to an interactive table.\"\n",
              "            style=\"display:none;\">\n",
              "\n",
              "  <svg xmlns=\"http://www.w3.org/2000/svg\" height=\"24px\" viewBox=\"0 -960 960 960\">\n",
              "    <path d=\"M120-120v-720h720v720H120Zm60-500h600v-160H180v160Zm220 220h160v-160H400v160Zm0 220h160v-160H400v160ZM180-400h160v-160H180v160Zm440 0h160v-160H620v160ZM180-180h160v-160H180v160Zm440 0h160v-160H620v160Z\"/>\n",
              "  </svg>\n",
              "    </button>\n",
              "\n",
              "  <style>\n",
              "    .colab-df-container {\n",
              "      display:flex;\n",
              "      gap: 12px;\n",
              "    }\n",
              "\n",
              "    .colab-df-convert {\n",
              "      background-color: #E8F0FE;\n",
              "      border: none;\n",
              "      border-radius: 50%;\n",
              "      cursor: pointer;\n",
              "      display: none;\n",
              "      fill: #1967D2;\n",
              "      height: 32px;\n",
              "      padding: 0 0 0 0;\n",
              "      width: 32px;\n",
              "    }\n",
              "\n",
              "    .colab-df-convert:hover {\n",
              "      background-color: #E2EBFA;\n",
              "      box-shadow: 0px 1px 2px rgba(60, 64, 67, 0.3), 0px 1px 3px 1px rgba(60, 64, 67, 0.15);\n",
              "      fill: #174EA6;\n",
              "    }\n",
              "\n",
              "    .colab-df-buttons div {\n",
              "      margin-bottom: 4px;\n",
              "    }\n",
              "\n",
              "    [theme=dark] .colab-df-convert {\n",
              "      background-color: #3B4455;\n",
              "      fill: #D2E3FC;\n",
              "    }\n",
              "\n",
              "    [theme=dark] .colab-df-convert:hover {\n",
              "      background-color: #434B5C;\n",
              "      box-shadow: 0px 1px 3px 1px rgba(0, 0, 0, 0.15);\n",
              "      filter: drop-shadow(0px 1px 2px rgba(0, 0, 0, 0.3));\n",
              "      fill: #FFFFFF;\n",
              "    }\n",
              "  </style>\n",
              "\n",
              "    <script>\n",
              "      const buttonEl =\n",
              "        document.querySelector('#df-c728a422-0e73-4e17-a6d0-fae844949a22 button.colab-df-convert');\n",
              "      buttonEl.style.display =\n",
              "        google.colab.kernel.accessAllowed ? 'block' : 'none';\n",
              "\n",
              "      async function convertToInteractive(key) {\n",
              "        const element = document.querySelector('#df-c728a422-0e73-4e17-a6d0-fae844949a22');\n",
              "        const dataTable =\n",
              "          await google.colab.kernel.invokeFunction('convertToInteractive',\n",
              "                                                    [key], {});\n",
              "        if (!dataTable) return;\n",
              "\n",
              "        const docLinkHtml = 'Like what you see? Visit the ' +\n",
              "          '<a target=\"_blank\" href=https://colab.research.google.com/notebooks/data_table.ipynb>data table notebook</a>'\n",
              "          + ' to learn more about interactive tables.';\n",
              "        element.innerHTML = '';\n",
              "        dataTable['output_type'] = 'display_data';\n",
              "        await google.colab.output.renderOutput(dataTable, element);\n",
              "        const docLink = document.createElement('div');\n",
              "        docLink.innerHTML = docLinkHtml;\n",
              "        element.appendChild(docLink);\n",
              "      }\n",
              "    </script>\n",
              "  </div>\n",
              "\n",
              "\n",
              "<div id=\"df-ced25eca-a898-48fc-8da8-26fe8297fcb4\">\n",
              "  <button class=\"colab-df-quickchart\" onclick=\"quickchart('df-ced25eca-a898-48fc-8da8-26fe8297fcb4')\"\n",
              "            title=\"Suggest charts\"\n",
              "            style=\"display:none;\">\n",
              "\n",
              "<svg xmlns=\"http://www.w3.org/2000/svg\" height=\"24px\"viewBox=\"0 0 24 24\"\n",
              "     width=\"24px\">\n",
              "    <g>\n",
              "        <path d=\"M19 3H5c-1.1 0-2 .9-2 2v14c0 1.1.9 2 2 2h14c1.1 0 2-.9 2-2V5c0-1.1-.9-2-2-2zM9 17H7v-7h2v7zm4 0h-2V7h2v10zm4 0h-2v-4h2v4z\"/>\n",
              "    </g>\n",
              "</svg>\n",
              "  </button>\n",
              "\n",
              "<style>\n",
              "  .colab-df-quickchart {\n",
              "      --bg-color: #E8F0FE;\n",
              "      --fill-color: #1967D2;\n",
              "      --hover-bg-color: #E2EBFA;\n",
              "      --hover-fill-color: #174EA6;\n",
              "      --disabled-fill-color: #AAA;\n",
              "      --disabled-bg-color: #DDD;\n",
              "  }\n",
              "\n",
              "  [theme=dark] .colab-df-quickchart {\n",
              "      --bg-color: #3B4455;\n",
              "      --fill-color: #D2E3FC;\n",
              "      --hover-bg-color: #434B5C;\n",
              "      --hover-fill-color: #FFFFFF;\n",
              "      --disabled-bg-color: #3B4455;\n",
              "      --disabled-fill-color: #666;\n",
              "  }\n",
              "\n",
              "  .colab-df-quickchart {\n",
              "    background-color: var(--bg-color);\n",
              "    border: none;\n",
              "    border-radius: 50%;\n",
              "    cursor: pointer;\n",
              "    display: none;\n",
              "    fill: var(--fill-color);\n",
              "    height: 32px;\n",
              "    padding: 0;\n",
              "    width: 32px;\n",
              "  }\n",
              "\n",
              "  .colab-df-quickchart:hover {\n",
              "    background-color: var(--hover-bg-color);\n",
              "    box-shadow: 0 1px 2px rgba(60, 64, 67, 0.3), 0 1px 3px 1px rgba(60, 64, 67, 0.15);\n",
              "    fill: var(--button-hover-fill-color);\n",
              "  }\n",
              "\n",
              "  .colab-df-quickchart-complete:disabled,\n",
              "  .colab-df-quickchart-complete:disabled:hover {\n",
              "    background-color: var(--disabled-bg-color);\n",
              "    fill: var(--disabled-fill-color);\n",
              "    box-shadow: none;\n",
              "  }\n",
              "\n",
              "  .colab-df-spinner {\n",
              "    border: 2px solid var(--fill-color);\n",
              "    border-color: transparent;\n",
              "    border-bottom-color: var(--fill-color);\n",
              "    animation:\n",
              "      spin 1s steps(1) infinite;\n",
              "  }\n",
              "\n",
              "  @keyframes spin {\n",
              "    0% {\n",
              "      border-color: transparent;\n",
              "      border-bottom-color: var(--fill-color);\n",
              "      border-left-color: var(--fill-color);\n",
              "    }\n",
              "    20% {\n",
              "      border-color: transparent;\n",
              "      border-left-color: var(--fill-color);\n",
              "      border-top-color: var(--fill-color);\n",
              "    }\n",
              "    30% {\n",
              "      border-color: transparent;\n",
              "      border-left-color: var(--fill-color);\n",
              "      border-top-color: var(--fill-color);\n",
              "      border-right-color: var(--fill-color);\n",
              "    }\n",
              "    40% {\n",
              "      border-color: transparent;\n",
              "      border-right-color: var(--fill-color);\n",
              "      border-top-color: var(--fill-color);\n",
              "    }\n",
              "    60% {\n",
              "      border-color: transparent;\n",
              "      border-right-color: var(--fill-color);\n",
              "    }\n",
              "    80% {\n",
              "      border-color: transparent;\n",
              "      border-right-color: var(--fill-color);\n",
              "      border-bottom-color: var(--fill-color);\n",
              "    }\n",
              "    90% {\n",
              "      border-color: transparent;\n",
              "      border-bottom-color: var(--fill-color);\n",
              "    }\n",
              "  }\n",
              "</style>\n",
              "\n",
              "  <script>\n",
              "    async function quickchart(key) {\n",
              "      const quickchartButtonEl =\n",
              "        document.querySelector('#' + key + ' button');\n",
              "      quickchartButtonEl.disabled = true;  // To prevent multiple clicks.\n",
              "      quickchartButtonEl.classList.add('colab-df-spinner');\n",
              "      try {\n",
              "        const charts = await google.colab.kernel.invokeFunction(\n",
              "            'suggestCharts', [key], {});\n",
              "      } catch (error) {\n",
              "        console.error('Error during call to suggestCharts:', error);\n",
              "      }\n",
              "      quickchartButtonEl.classList.remove('colab-df-spinner');\n",
              "      quickchartButtonEl.classList.add('colab-df-quickchart-complete');\n",
              "    }\n",
              "    (() => {\n",
              "      let quickchartButtonEl =\n",
              "        document.querySelector('#df-ced25eca-a898-48fc-8da8-26fe8297fcb4 button');\n",
              "      quickchartButtonEl.style.display =\n",
              "        google.colab.kernel.accessAllowed ? 'block' : 'none';\n",
              "    })();\n",
              "  </script>\n",
              "</div>\n",
              "\n",
              "    </div>\n",
              "  </div>\n"
            ],
            "application/vnd.google.colaboratory.intrinsic+json": {
              "type": "dataframe",
              "summary": "{\n  \"name\": \"stock_price_pred\",\n  \"rows\": 8,\n  \"fields\": [\n    {\n      \"column\": \"Open\",\n      \"properties\": {\n        \"dtype\": \"number\",\n        \"std\": 282.1832770360729,\n        \"min\": 108.53753170401454,\n        \"max\": 1009.0,\n        \"num_unique_values\": 8,\n        \"samples\": [\n          419.05967286223984,\n          377.769989,\n          1009.0\n        ],\n        \"semantic_type\": \"\",\n        \"description\": \"\"\n      }\n    },\n    {\n      \"column\": \"High\",\n      \"properties\": {\n        \"dtype\": \"number\",\n        \"std\": 280.6963345154866,\n        \"min\": 109.26295957119457,\n        \"max\": 1009.0,\n        \"num_unique_values\": 8,\n        \"samples\": [\n          425.3207030802775,\n          383.01001,\n          1009.0\n        ],\n        \"semantic_type\": \"\",\n        \"description\": \"\"\n      }\n    },\n    {\n      \"column\": \"Low\",\n      \"properties\": {\n        \"dtype\": \"number\",\n        \"std\": 282.56434986365855,\n        \"min\": 107.55586739006051,\n        \"max\": 1009.0,\n        \"num_unique_values\": 8,\n        \"samples\": [\n          412.37404380178396,\n          370.880005,\n          1009.0\n        ],\n        \"semantic_type\": \"\",\n        \"description\": \"\"\n      }\n    },\n    {\n      \"column\": \"Close\",\n      \"properties\": {\n        \"dtype\": \"number\",\n        \"std\": 282.10864732949005,\n        \"min\": 108.28999877034998,\n        \"max\": 1009.0,\n        \"num_unique_values\": 8,\n        \"samples\": [\n          419.0007329207136,\n          378.670013,\n          1009.0\n        ],\n        \"semantic_type\": \"\",\n        \"description\": \"\"\n      }\n    },\n    {\n      \"column\": \"Adj Close\",\n      \"properties\": {\n        \"dtype\": \"number\",\n        \"std\": 282.10864732949005,\n        \"min\": 108.28999877034998,\n        \"max\": 1009.0,\n        \"num_unique_values\": 8,\n        \"samples\": [\n          419.0007329207136,\n          378.670013,\n          1009.0\n        ],\n        \"semantic_type\": \"\",\n        \"description\": \"\"\n      }\n    },\n    {\n      \"column\": \"Volume\",\n      \"properties\": {\n        \"dtype\": \"number\",\n        \"std\": 19379918.05636072,\n        \"min\": 1009.0,\n        \"max\": 58904300.0,\n        \"num_unique_values\": 8,\n        \"samples\": [\n          7570685.03468781,\n          5934500.0,\n          1009.0\n        ],\n        \"semantic_type\": \"\",\n        \"description\": \"\"\n      }\n    }\n  ]\n}"
            }
          },
          "metadata": {},
          "execution_count": 5
        }
      ]
    },
    {
      "cell_type": "code",
      "source": [
        "stock_price_pred.isnull().sum()"
      ],
      "metadata": {
        "colab": {
          "base_uri": "https://localhost:8080/"
        },
        "id": "lC8RdGk0e17k",
        "outputId": "8e9a8f19-c35a-446c-f148-5202e73afbab"
      },
      "execution_count": 6,
      "outputs": [
        {
          "output_type": "execute_result",
          "data": {
            "text/plain": [
              "Open         0\n",
              "High         0\n",
              "Low          0\n",
              "Close        0\n",
              "Adj Close    0\n",
              "Volume       0\n",
              "dtype: int64"
            ]
          },
          "metadata": {},
          "execution_count": 6
        }
      ]
    },
    {
      "cell_type": "code",
      "source": [
        "import matplotlib.pyplot as plt"
      ],
      "metadata": {
        "id": "G0J1QvBRe4Is"
      },
      "execution_count": 7,
      "outputs": []
    },
    {
      "cell_type": "code",
      "source": [
        "import matplotlib.dates as mdates"
      ],
      "metadata": {
        "id": "pRorGgEYe6x2"
      },
      "execution_count": 8,
      "outputs": []
    },
    {
      "cell_type": "code",
      "source": [
        "import datetime as dt\n",
        "import numpy"
      ],
      "metadata": {
        "id": "o5saZUIQe9R1"
      },
      "execution_count": 9,
      "outputs": []
    },
    {
      "cell_type": "code",
      "source": [
        "plt.figure(figsize=(15,10))\n",
        "plt.gca().xaxis.set_major_formatter(mdates.DateFormatter('%Y-%m-%d'))\n",
        "plt.gca(). xaxis. set_major_locator(mdates.DayLocator(interval=60))\n",
        "x_dates = [dt.datetime.strptime(d, '%Y-%m-%d').date() for d in stock_price_pred.index.values]\n",
        "\n",
        "plt.plot(x_dates, stock_price_pred['High'], label='High')\n",
        "plt.plot(x_dates, stock_price_pred['Low'], label='Low')\n",
        "plt.xlabel('Time Scale')\n",
        "plt.ylabel('Scaled USD')\n",
        "plt. legend()\n",
        "plt.gcf().autofmt_xdate()\n",
        "plt.show()"
      ],
      "metadata": {
        "colab": {
          "base_uri": "https://localhost:8080/",
          "height": 435
        },
        "id": "v5IdQjHQfABm",
        "outputId": "0211e26b-dd3a-4297-f670-ea80211517cf"
      },
      "execution_count": 10,
      "outputs": [
        {
          "output_type": "display_data",
          "data": {
            "text/plain": [
              "<Figure size 1500x1000 with 1 Axes>"
            ],
            "image/png": "[encoded data removed]"
          },
          "metadata": {}
        }
      ]
    },
    {
      "cell_type": "code",
      "source": [
        "import matplotlib.pyplot as plt\n",
        "import pandas as pd\n",
        "import numpy as np\n",
        "import tensorflow\n",
        "from tensorflow.keras.models import Sequential\n",
        "from tensorflow.keras.layers import Dense\n",
        "from tensorflow.keras.layers import LSTM\n",
        "from tensorflow.keras.layers import Dropout\n",
        "from tensorflow.keras.layers import *\n",
        "from tensorflow.keras.callbacks import EarlyStopping\n",
        "\n",
        "from sklearn.preprocessing import MinMaxScaler, StandardScaler\n",
        "from sklearn.metrics import mean_squared_error\n",
        "from sklearn.metrics import mean_absolute_percentage_error\n",
        "from sklearn.model_selection import train_test_split\n",
        "from sklearn.model_selection import TimeSeriesSplit\n",
        "from sklearn.metrics import mean_squared_error"
      ],
      "metadata": {
        "id": "-aLMCW5AfCWb"
      },
      "execution_count": 11,
      "outputs": []
    },
    {
      "cell_type": "code",
      "source": [
        "target_y = stock_price_pred['Close']\n",
        "X_feat = stock_price_pred.iloc[:,0:3]"
      ],
      "metadata": {
        "id": "NJtkIwRmfFov"
      },
      "execution_count": 12,
      "outputs": []
    },
    {
      "cell_type": "code",
      "source": [
        "#Feature Scaling\n",
        "from sklearn.preprocessing import StandardScaler\n",
        "SC = StandardScaler()\n",
        "X_ft = SC.fit_transform(X_feat.values)\n",
        "X_ft = pd.DataFrame(columns=X_feat.columns,\n",
        "data=X_ft,\n",
        "index=X_feat.index)"
      ],
      "metadata": {
        "id": "tdSwy-hSfZJ1"
      },
      "execution_count": 17,
      "outputs": []
    },
    {
      "cell_type": "code",
      "source": [
        "def lstm_split(data, n_steps):\n",
        "  x, y = [], []\n",
        "  for i in range(len(data)-n_steps+1):\n",
        "    x.append(data[i:i + n_steps, :- 1])\n",
        "    y.append(data[i + n_steps-1, -1])\n",
        "\n",
        "  return np.array(x), np.array(y)"
      ],
      "metadata": {
        "id": "5bNHnZOyfhva"
      },
      "execution_count": 19,
      "outputs": []
    },
    {
      "cell_type": "code",
      "source": [
        "X1, y1 = lstm_split(stock_price_pred.values, n_steps=2)\n",
        "\n",
        "train_split=0.8\n",
        "split_idx = int(np.ceil(len(X1)*train_split))\n",
        "date_index = stock_price_pred.index\n",
        "\n",
        "X_train, X_test = X1[ : split_idx], X1[split_idx: ]\n",
        "y_train, y_test = y1[:split_idx], y1[split_idx:]\n",
        "x_train_date, x_test_date = date_index[:split_idx], date_index[split_idx: ]\n",
        "\n",
        "print(X1.shape, X_train.shape, X_test.shape, y_test.shape)"
      ],
      "metadata": {
        "colab": {
          "base_uri": "https://localhost:8080/"
        },
        "id": "-nU3FTEOgIsJ",
        "outputId": "f4008000-c7ec-465f-fd64-52d69089105d"
      },
      "execution_count": 24,
      "outputs": [
        {
          "output_type": "stream",
          "name": "stdout",
          "text": [
            "(1008, 2, 5) (807, 2, 5) (201, 2, 5) (201,)\n"
          ]
        }
      ]
    },
    {
      "cell_type": "code",
      "source": [
        "lstm = Sequential()\n",
        "lstm.add(LSTM(32, input_shape=(X_train.shape[1], X_train.shape[2]),\n",
        "              activation='relu', return_sequences=True))\n",
        "lstm.add(Dense(1))\n",
        "lstm.compile(loss='mean_squared_error', optimizer='adam')\n",
        "lstm. summary()"
      ],
      "metadata": {
        "colab": {
          "base_uri": "https://localhost:8080/"
        },
        "id": "GtMqlaPKgWUf",
        "outputId": "e5be9d92-7f7c-4d8f-d39e-7ea42c0c7a18"
      },
      "execution_count": 28,
      "outputs": [
        {
          "output_type": "stream",
          "name": "stdout",
          "text": [
            "Model: \"sequential_1\"\n",
            "_________________________________________________________________\n",
            " Layer (type)                Output Shape              Param #   \n",
            "=================================================================\n",
            " lstm (LSTM)                 (None, 2, 32)             4864      \n",
            "                                                                 \n",
            " dense (Dense)               (None, 2, 1)              33        \n",
            "                                                                 \n",
            "=================================================================\n",
            "Total params: 4897 (19.13 KB)\n",
            "Trainable params: 4897 (19.13 KB)\n",
            "Non-trainable params: 0 (0.00 Byte)\n",
            "_________________________________________________________________\n"
          ]
        }
      ]
    },
    {
      "cell_type": "code",
      "source": [
        "history=lstm.fit(X_train, y_train,\n",
        "                epochs=100, batch_size=4,\n",
        "                verbose=2, shuffle=False)"
      ],
      "metadata": {
        "colab": {
          "base_uri": "https://localhost:8080/"
        },
        "id": "MMXtWcxDg_Pj",
        "outputId": "bafef319-38f0-4fa1-db94-159494928bf6"
      },
      "execution_count": 29,
      "outputs": [
        {
          "output_type": "stream",
          "name": "stdout",
          "text": [
            "Epoch 1/100\n",
            "202/202 - 2s - loss: 96373655470080.0000 - 2s/epoch - 10ms/step\n",
            "Epoch 2/100\n",
            "202/202 - 0s - loss: 96099045998592.0000 - 444ms/epoch - 2ms/step\n",
            "Epoch 3/100\n",
            "202/202 - 0s - loss: 95080643821568.0000 - 434ms/epoch - 2ms/step\n",
            "Epoch 4/100\n",
            "202/202 - 0s - loss: 92929687289856.0000 - 436ms/epoch - 2ms/step\n",
            "Epoch 5/100\n",
            "202/202 - 0s - loss: 89321780543488.0000 - 455ms/epoch - 2ms/step\n",
            "Epoch 6/100\n",
            "202/202 - 0s - loss: 84472233984000.0000 - 423ms/epoch - 2ms/step\n",
            "Epoch 7/100\n",
            "202/202 - 0s - loss: 79233070137344.0000 - 443ms/epoch - 2ms/step\n",
            "Epoch 8/100\n",
            "202/202 - 0s - loss: 74469137711104.0000 - 429ms/epoch - 2ms/step\n",
            "Epoch 9/100\n",
            "202/202 - 0s - loss: 70769518313472.0000 - 427ms/epoch - 2ms/step\n",
            "Epoch 10/100\n",
            "202/202 - 0s - loss: 68272267460608.0000 - 424ms/epoch - 2ms/step\n",
            "Epoch 11/100\n",
            "202/202 - 0s - loss: 66761894395904.0000 - 426ms/epoch - 2ms/step\n",
            "Epoch 12/100\n",
            "202/202 - 0s - loss: 65909066563584.0000 - 425ms/epoch - 2ms/step\n",
            "Epoch 13/100\n",
            "202/202 - 0s - loss: 65440176930816.0000 - 414ms/epoch - 2ms/step\n",
            "Epoch 14/100\n",
            "202/202 - 0s - loss: 65180323020800.0000 - 448ms/epoch - 2ms/step\n",
            "Epoch 15/100\n",
            "202/202 - 0s - loss: 65031861436416.0000 - 425ms/epoch - 2ms/step\n",
            "Epoch 16/100\n",
            "202/202 - 0s - loss: 64943189655552.0000 - 416ms/epoch - 2ms/step\n",
            "Epoch 17/100\n",
            "202/202 - 0s - loss: 64887627710464.0000 - 439ms/epoch - 2ms/step\n",
            "Epoch 18/100\n",
            "202/202 - 1s - loss: 64850914967552.0000 - 542ms/epoch - 3ms/step\n",
            "Epoch 19/100\n",
            "202/202 - 1s - loss: 64825552011264.0000 - 616ms/epoch - 3ms/step\n",
            "Epoch 20/100\n",
            "202/202 - 1s - loss: 64807105462272.0000 - 614ms/epoch - 3ms/step\n",
            "Epoch 21/100\n",
            "202/202 - 1s - loss: 64793176178688.0000 - 682ms/epoch - 3ms/step\n",
            "Epoch 22/100\n",
            "202/202 - 1s - loss: 64782178713600.0000 - 588ms/epoch - 3ms/step\n",
            "Epoch 23/100\n",
            "202/202 - 0s - loss: 64773236457472.0000 - 416ms/epoch - 2ms/step\n",
            "Epoch 24/100\n",
            "202/202 - 0s - loss: 64765711876096.0000 - 428ms/epoch - 2ms/step\n",
            "Epoch 25/100\n",
            "202/202 - 0s - loss: 64759227482112.0000 - 413ms/epoch - 2ms/step\n",
            "Epoch 26/100\n",
            "202/202 - 0s - loss: 64753435148288.0000 - 427ms/epoch - 2ms/step\n",
            "Epoch 27/100\n",
            "202/202 - 0s - loss: 64748217434112.0000 - 449ms/epoch - 2ms/step\n",
            "Epoch 28/100\n",
            "202/202 - 0s - loss: 64743402373120.0000 - 418ms/epoch - 2ms/step\n",
            "Epoch 29/100\n",
            "202/202 - 0s - loss: 64738910273536.0000 - 430ms/epoch - 2ms/step\n",
            "Epoch 30/100\n",
            "202/202 - 0s - loss: 64734615306240.0000 - 426ms/epoch - 2ms/step\n",
            "Epoch 31/100\n",
            "202/202 - 0s - loss: 64730559414272.0000 - 414ms/epoch - 2ms/step\n",
            "Epoch 32/100\n",
            "202/202 - 0s - loss: 64726562242560.0000 - 422ms/epoch - 2ms/step\n",
            "Epoch 33/100\n",
            "202/202 - 0s - loss: 64722669928448.0000 - 430ms/epoch - 2ms/step\n",
            "Epoch 34/100\n",
            "202/202 - 0s - loss: 64718936997888.0000 - 431ms/epoch - 2ms/step\n",
            "Epoch 35/100\n",
            "202/202 - 0s - loss: 64715174707200.0000 - 422ms/epoch - 2ms/step\n",
            "Epoch 36/100\n",
            "202/202 - 0s - loss: 64711445970944.0000 - 428ms/epoch - 2ms/step\n",
            "Epoch 37/100\n",
            "202/202 - 0s - loss: 64707792732160.0000 - 420ms/epoch - 2ms/step\n",
            "Epoch 38/100\n",
            "202/202 - 0s - loss: 64704210796544.0000 - 417ms/epoch - 2ms/step\n",
            "Epoch 39/100\n",
            "202/202 - 0s - loss: 64700540780544.0000 - 437ms/epoch - 2ms/step\n",
            "Epoch 40/100\n",
            "202/202 - 0s - loss: 64696954650624.0000 - 426ms/epoch - 2ms/step\n",
            "Epoch 41/100\n",
            "202/202 - 0s - loss: 64693330771968.0000 - 438ms/epoch - 2ms/step\n",
            "Epoch 42/100\n",
            "202/202 - 0s - loss: 64689706893312.0000 - 434ms/epoch - 2ms/step\n",
            "Epoch 43/100\n",
            "202/202 - 0s - loss: 64686103986176.0000 - 424ms/epoch - 2ms/step\n",
            "Epoch 44/100\n",
            "202/202 - 0s - loss: 64682488496128.0000 - 436ms/epoch - 2ms/step\n",
            "Epoch 45/100\n",
            "202/202 - 0s - loss: 64678847840256.0000 - 432ms/epoch - 2ms/step\n",
            "Epoch 46/100\n",
            "202/202 - 1s - loss: 64675215572992.0000 - 683ms/epoch - 3ms/step\n",
            "Epoch 47/100\n",
            "202/202 - 1s - loss: 64671604277248.0000 - 669ms/epoch - 3ms/step\n",
            "Epoch 48/100\n",
            "202/202 - 1s - loss: 64667913289728.0000 - 628ms/epoch - 3ms/step\n",
            "Epoch 49/100\n",
            "202/202 - 1s - loss: 64664243273728.0000 - 703ms/epoch - 3ms/step\n",
            "Epoch 50/100\n",
            "202/202 - 0s - loss: 64660598423552.0000 - 422ms/epoch - 2ms/step\n",
            "Epoch 51/100\n",
            "202/202 - 0s - loss: 64656894853120.0000 - 442ms/epoch - 2ms/step\n",
            "Epoch 52/100\n",
            "202/202 - 0s - loss: 64653174505472.0000 - 430ms/epoch - 2ms/step\n",
            "Epoch 53/100\n",
            "202/202 - 0s - loss: 64649483517952.0000 - 438ms/epoch - 2ms/step\n",
            "Epoch 54/100\n",
            "202/202 - 0s - loss: 64645742198784.0000 - 425ms/epoch - 2ms/step\n",
            "Epoch 55/100\n",
            "202/202 - 0s - loss: 64641975713792.0000 - 428ms/epoch - 2ms/step\n",
            "Epoch 56/100\n",
            "202/202 - 0s - loss: 64638234394624.0000 - 462ms/epoch - 2ms/step\n",
            "Epoch 57/100\n",
            "202/202 - 0s - loss: 64634442743808.0000 - 420ms/epoch - 2ms/step\n",
            "Epoch 58/100\n",
            "202/202 - 0s - loss: 64630621732864.0000 - 431ms/epoch - 2ms/step\n",
            "Epoch 59/100\n",
            "202/202 - 0s - loss: 64626804916224.0000 - 420ms/epoch - 2ms/step\n",
            "Epoch 60/100\n",
            "202/202 - 0s - loss: 64622962933760.0000 - 434ms/epoch - 2ms/step\n",
            "Epoch 61/100\n",
            "202/202 - 0s - loss: 64619112562688.0000 - 428ms/epoch - 2ms/step\n",
            "Epoch 62/100\n",
            "202/202 - 0s - loss: 64615245414400.0000 - 422ms/epoch - 2ms/step\n",
            "Epoch 63/100\n",
            "202/202 - 0s - loss: 64611369877504.0000 - 443ms/epoch - 2ms/step\n",
            "Epoch 64/100\n",
            "202/202 - 0s - loss: 64607498534912.0000 - 454ms/epoch - 2ms/step\n",
            "Epoch 65/100\n",
            "202/202 - 0s - loss: 64603568472064.0000 - 426ms/epoch - 2ms/step\n",
            "Epoch 66/100\n",
            "202/202 - 0s - loss: 64599609049088.0000 - 419ms/epoch - 2ms/step\n",
            "Epoch 67/100\n",
            "202/202 - 0s - loss: 64595620265984.0000 - 433ms/epoch - 2ms/step\n",
            "Epoch 68/100\n",
            "202/202 - 0s - loss: 64591677620224.0000 - 463ms/epoch - 2ms/step\n",
            "Epoch 69/100\n",
            "202/202 - 0s - loss: 64587697225728.0000 - 425ms/epoch - 2ms/step\n",
            "Epoch 70/100\n",
            "202/202 - 0s - loss: 64583679082496.0000 - 450ms/epoch - 2ms/step\n",
            "Epoch 71/100\n",
            "202/202 - 0s - loss: 64579644162048.0000 - 428ms/epoch - 2ms/step\n",
            "Epoch 72/100\n",
            "202/202 - 0s - loss: 64575630213120.0000 - 457ms/epoch - 2ms/step\n",
            "Epoch 73/100\n",
            "202/202 - 1s - loss: 64571528183808.0000 - 626ms/epoch - 3ms/step\n",
            "Epoch 74/100\n",
            "202/202 - 1s - loss: 64567447126016.0000 - 639ms/epoch - 3ms/step\n",
            "Epoch 75/100\n",
            "202/202 - 1s - loss: 64563366068224.0000 - 613ms/epoch - 3ms/step\n",
            "Epoch 76/100\n",
            "202/202 - 1s - loss: 64559230484480.0000 - 645ms/epoch - 3ms/step\n",
            "Epoch 77/100\n",
            "202/202 - 0s - loss: 64555094900736.0000 - 483ms/epoch - 2ms/step\n",
            "Epoch 78/100\n",
            "202/202 - 0s - loss: 64550925762560.0000 - 418ms/epoch - 2ms/step\n",
            "Epoch 79/100\n",
            "202/202 - 0s - loss: 64546731458560.0000 - 425ms/epoch - 2ms/step\n",
            "Epoch 80/100\n",
            "202/202 - 0s - loss: 64542558126080.0000 - 455ms/epoch - 2ms/step\n",
            "Epoch 81/100\n",
            "202/202 - 0s - loss: 64538317684736.0000 - 421ms/epoch - 2ms/step\n",
            "Epoch 82/100\n",
            "202/202 - 0s - loss: 64534085632000.0000 - 441ms/epoch - 2ms/step\n",
            "Epoch 83/100\n",
            "202/202 - 0s - loss: 64529849384960.0000 - 424ms/epoch - 2ms/step\n",
            "Epoch 84/100\n",
            "202/202 - 0s - loss: 64525537640448.0000 - 448ms/epoch - 2ms/step\n",
            "Epoch 85/100\n",
            "202/202 - 0s - loss: 64521272033280.0000 - 425ms/epoch - 2ms/step\n",
            "Epoch 86/100\n",
            "202/202 - 0s - loss: 64516914151424.0000 - 427ms/epoch - 2ms/step\n",
            "Epoch 87/100\n",
            "202/202 - 0s - loss: 64512589824000.0000 - 438ms/epoch - 2ms/step\n",
            "Epoch 88/100\n",
            "202/202 - 0s - loss: 64508206776320.0000 - 420ms/epoch - 2ms/step\n",
            "Epoch 89/100\n",
            "202/202 - 0s - loss: 64503836311552.0000 - 445ms/epoch - 2ms/step\n",
            "Epoch 90/100\n",
            "202/202 - 0s - loss: 64499449069568.0000 - 434ms/epoch - 2ms/step\n",
            "Epoch 91/100\n",
            "202/202 - 0s - loss: 64494986330112.0000 - 420ms/epoch - 2ms/step\n",
            "Epoch 92/100\n",
            "202/202 - 0s - loss: 64490552950784.0000 - 438ms/epoch - 2ms/step\n",
            "Epoch 93/100\n",
            "202/202 - 0s - loss: 64486060851200.0000 - 429ms/epoch - 2ms/step\n",
            "Epoch 94/100\n",
            "202/202 - 0s - loss: 64481610694656.0000 - 439ms/epoch - 2ms/step\n",
            "Epoch 95/100\n",
            "202/202 - 0s - loss: 64477097623552.0000 - 427ms/epoch - 2ms/step\n",
            "Epoch 96/100\n",
            "202/202 - 0s - loss: 64472559386624.0000 - 441ms/epoch - 2ms/step\n",
            "Epoch 97/100\n",
            "202/202 - 0s - loss: 64467979206656.0000 - 420ms/epoch - 2ms/step\n",
            "Epoch 98/100\n",
            "202/202 - 0s - loss: 64463382249472.0000 - 428ms/epoch - 2ms/step\n",
            "Epoch 99/100\n",
            "202/202 - 0s - loss: 64458789486592.0000 - 433ms/epoch - 2ms/step\n",
            "Epoch 100/100\n",
            "202/202 - 1s - loss: 64454179946496.0000 - 581ms/epoch - 3ms/step\n"
          ]
        }
      ]
    },
    {
      "cell_type": "code",
      "source": [
        "y_pred = lstm.predict(X_test)"
      ],
      "metadata": {
        "colab": {
          "base_uri": "https://localhost:8080/"
        },
        "id": "N26BjZcqhSlU",
        "outputId": "e4c1ceac-6b84-49b6-b356-94d64fdcf741"
      },
      "execution_count": 31,
      "outputs": [
        {
          "output_type": "stream",
          "name": "stdout",
          "text": [
            "7/7 [==============================] - 0s 2ms/step\n"
          ]
        }
      ]
    },
    {
      "cell_type": "code",
      "source": [
        "!pip install scikit-learn"
      ],
      "metadata": {
        "colab": {
          "base_uri": "https://localhost:8080/"
        },
        "id": "ysY1H8UpiANO",
        "outputId": "205309da-cfad-40ca-b874-872fb4d55f0e"
      },
      "execution_count": 33,
      "outputs": [
        {
          "output_type": "stream",
          "name": "stdout",
          "text": [
            "Requirement already satisfied: scikit-learn in /usr/local/lib/python3.10/dist-packages (1.2.2)\n",
            "Requirement already satisfied: numpy>=1.17.3 in /usr/local/lib/python3.10/dist-packages (from scikit-learn) (1.25.2)\n",
            "Requirement already satisfied: scipy>=1.3.2 in /usr/local/lib/python3.10/dist-packages (from scikit-learn) (1.11.4)\n",
            "Requirement already satisfied: joblib>=1.1.1 in /usr/local/lib/python3.10/dist-packages (from scikit-learn) (1.4.0)\n",
            "Requirement already satisfied: threadpoolctl>=2.0.0 in /usr/local/lib/python3.10/dist-packages (from scikit-learn) (3.4.0)\n"
          ]
        }
      ]
    },
    {
      "cell_type": "code",
      "source": [
        "from sklearn.metrics import mean_squared_error, mean_absolute_percentage_error"
      ],
      "metadata": {
        "id": "g8Q_OTd1iGTt"
      },
      "execution_count": 34,
      "outputs": []
    },
    {
      "cell_type": "code",
      "source": [
        "print(y_pred.shape)"
      ],
      "metadata": {
        "colab": {
          "base_uri": "https://localhost:8080/"
        },
        "id": "jwbfQIp8iJ6K",
        "outputId": "89be4e72-c6c3-4c5e-8310-187dbc409837"
      },
      "execution_count": 35,
      "outputs": [
        {
          "output_type": "stream",
          "name": "stdout",
          "text": [
            "(201, 2, 1)\n"
          ]
        }
      ]
    },
    {
      "cell_type": "code",
      "source": [
        "print(\"y_test shape:\", y_test.shape)\n",
        "print(\"y_pred shape:\", y_pred.shape)"
      ],
      "metadata": {
        "colab": {
          "base_uri": "https://localhost:8080/"
        },
        "id": "cuaMl_VxiWZH",
        "outputId": "63deeb26-aec8-4fab-a95e-746d97789b46"
      },
      "execution_count": 37,
      "outputs": [
        {
          "output_type": "stream",
          "name": "stdout",
          "text": [
            "y_test shape: (201,)\n",
            "y_pred shape: (201, 2)\n"
          ]
        }
      ]
    },
    {
      "cell_type": "code",
      "source": [
        "!pip install numpy\n",
        "import numpy as np"
      ],
      "metadata": {
        "colab": {
          "base_uri": "https://localhost:8080/"
        },
        "id": "9Ys0xpFqiYpy",
        "outputId": "cc7159f9-f95c-432d-8a47-0e145e30f3f6"
      },
      "execution_count": 38,
      "outputs": [
        {
          "output_type": "stream",
          "name": "stdout",
          "text": [
            "Requirement already satisfied: numpy in /usr/local/lib/python3.10/dist-packages (1.25.2)\n"
          ]
        }
      ]
    },
    {
      "cell_type": "code",
      "source": [
        "if y_pred.ndim == 2:\n",
        "    # If y_pred has 2 columns, take the first column only\n",
        "    y_pred = y_pred[:, 0]\n",
        "else:\n",
        "    print(\"y_pred is already a 1D array.\")"
      ],
      "metadata": {
        "colab": {
          "base_uri": "https://localhost:8080/"
        },
        "id": "M5dDO89fjdRW",
        "outputId": "82bf940d-6f36-47ea-800b-9d73f9368ca8"
      },
      "execution_count": 45,
      "outputs": [
        {
          "output_type": "stream",
          "name": "stdout",
          "text": [
            "y_pred is already a 1D array.\n"
          ]
        }
      ]
    },
    {
      "cell_type": "code",
      "source": [
        "# Recalculate the metrics\n",
        "rmse = mean_squared_error(y_test, y_pred, squared=False)\n",
        "mape = mean_absolute_percentage_error(y_test, y_pred)\n",
        "\n",
        "# Print the results\n",
        "print(\"RSME: \", rmse)\n",
        "print(\"MAPE: \", mape)"
      ],
      "metadata": {
        "colab": {
          "base_uri": "https://localhost:8080/"
        },
        "id": "SP4ta3bmje5t",
        "outputId": "b462094d-97c9-402d-c97d-7a3d72895193"
      },
      "execution_count": 46,
      "outputs": [
        {
          "output_type": "stream",
          "name": "stdout",
          "text": [
            "RSME:  6840709.416058637\n",
            "MAPE:  0.8860114965389028\n"
          ]
        }
      ]
    },
    {
      "cell_type": "code",
      "source": [
        "lstm = Sequential()\n",
        "lstm.add(LSTM(50, input_shape=(X_train.shape[1], X_train.shape[2]),\n",
        "activation='relu', return_sequences=True))\n",
        "lstm.add(LSTM(50, activation='relu'))\n",
        "\n",
        "lstm.add(Dense(1))\n",
        "lstm.compile(loss='mean_squared_error', optimizer='adam')\n",
        "lstm. summary()"
      ],
      "metadata": {
        "colab": {
          "base_uri": "https://localhost:8080/"
        },
        "id": "acnCM1Cdhy7b",
        "outputId": "4371b519-2b09-4715-cb57-0bd32bcd0cf5"
      },
      "execution_count": 49,
      "outputs": [
        {
          "output_type": "stream",
          "name": "stdout",
          "text": [
            "Model: \"sequential_3\"\n",
            "_________________________________________________________________\n",
            " Layer (type)                Output Shape              Param #   \n",
            "=================================================================\n",
            " lstm_1 (LSTM)               (None, 2, 50)             11200     \n",
            "                                                                 \n",
            " lstm_2 (LSTM)               (None, 50)                20200     \n",
            "                                                                 \n",
            " dense_1 (Dense)             (None, 1)                 51        \n",
            "                                                                 \n",
            "=================================================================\n",
            "Total params: 31451 (122.86 KB)\n",
            "Trainable params: 31451 (122.86 KB)\n",
            "Non-trainable params: 0 (0.00 Byte)\n",
            "_________________________________________________________________\n"
          ]
        }
      ]
    },
    {
      "cell_type": "code",
      "source": [
        "rmse = mean_squared_error(y_test, y_pred, squared=False)\n",
        "mape = mean_absolute_percentage_error(y_test, y_pred)\n",
        "print(\"RSME: \",rmse)\n",
        "print(\"MAPE: \", mape)"
      ],
      "metadata": {
        "colab": {
          "base_uri": "https://localhost:8080/"
        },
        "id": "gYFb1LmijvhJ",
        "outputId": "f28059a5-740c-4831-ff92-d26501d91a2c"
      },
      "execution_count": 51,
      "outputs": [
        {
          "output_type": "stream",
          "name": "stdout",
          "text": [
            "RSME:  6840709.416058637\n",
            "MAPE:  0.8860114965389028\n"
          ]
        }
      ]
    },
    {
      "cell_type": "code",
      "source": [
        "n_steps=10\n",
        "X1, y1 = lstm_split(stock_price_pred.values, n_steps=n_steps)\n",
        "\n",
        "train_split=0.8\n",
        "split_idx = int(np.ceil(len(X1)*train_split))\n",
        "date_index = stock_price_pred.index\n",
        "\n",
        "X_train, X_test = X1[: split_idx], X1[split_idx:]\n",
        "y_train, y_test = y1[: split_idx], y1[split_idx: ]\n",
        "X_train_date, X_test_date = date_index[:split_idx], date_index[split_idx :- n_steps]\n",
        "\n",
        "print(X1.shape, X_train.shape, X_test.shape, X_test_date.shape, y_test. shape)"
      ],
      "metadata": {
        "colab": {
          "base_uri": "https://localhost:8080/"
        },
        "id": "uDFlaC0lkBZz",
        "outputId": "e7c5d2d7-adc8-4c92-b57f-16198f1bc5c3"
      },
      "execution_count": 60,
      "outputs": [
        {
          "output_type": "stream",
          "name": "stdout",
          "text": [
            "(1000, 10, 5) (800, 10, 5) (200, 10, 5) (199,) (200,)\n"
          ]
        }
      ]
    },
    {
      "cell_type": "code",
      "source": [],
      "metadata": {
        "id": "_pxxxTf2kyff"
      },
      "execution_count": null,
      "outputs": []
    }
  ]
}